{
 "cells": [
  {
   "cell_type": "code",
   "execution_count": 1,
   "metadata": {},
   "outputs": [],
   "source": [
    "### Keras Bidirectional LSTM\n",
    "\n",
    "# https://github.com/snehalnair/Named-Entity-Recognition/blob/master/NER.ipynb\n",
    "# https://towardsdatascience.com/named-entity-recognition-ner-using-keras-bidirectional-lstm-28cd3f301f54\n",
    "\n",
    "# https://medium.com/analytics-vidhya/ner-tensorflow-2-2-0-9f10dcf5a0a"
   ]
  },
  {
   "cell_type": "code",
   "execution_count": 2,
   "metadata": {},
   "outputs": [],
   "source": [
    "import os\n",
    "import pandas as pd\n",
    "import glob\n",
    "import csv\n",
    "import numpy as np"
   ]
  },
  {
   "cell_type": "code",
   "execution_count": 6,
   "metadata": {
    "scrolled": true
   },
   "outputs": [
    {
     "name": "stdout",
     "output_type": "stream",
     "text": [
      "['./Biomedical_corpora/corpora/NER/CoNLL/BIO/AnatEM_BIO\\\\test.tsv', './Biomedical_corpora/corpora/NER/CoNLL/BIO/AnatEM_BIO\\\\train.tsv', './Biomedical_corpora/corpora/NER/CoNLL/BIO/AnatEM_BIO\\\\valid.tsv']\n"
     ]
    }
   ],
   "source": [
    "sourcepath='./Biomedical_corpora/corpora/NER/CoNLL/BIO/AnatEM_BIO/'\n",
    "tsvpath=sourcepath+'*.tsv'\n",
    "\n",
    "all_files = glob.glob(os.path.join(sourcepath, \"*.tsv\"))    \n",
    "print(all_files)\n",
    "\n",
    "sent_list=[]\n",
    "tag_list=[]\n",
    "split_label=[]\n",
    "split_tags=[]\n",
    "\n",
    "count=0\n",
    "for i in all_files:\n",
    "    with open(i) as tsvfile:\n",
    "        tsvreader = csv.reader(tsvfile, delimiter=\"\\t\")\n",
    "        \n",
    "        for index,line in enumerate(tsvreader):\n",
    "            if not line:\n",
    "                split_label.append(['sentence'+str(count)]+sent_list)\n",
    "                split_tags.append(['sentence'+str(count)]+tag_list)\n",
    "                sent_list=[]\n",
    "                tag_list=[]\n",
    "                count=count+1\n",
    "                continue\n",
    "#             sent_list.append(line[0])\n",
    "            sent_list.append(line[0])\n",
    "            tag_list.append(line[-1].rstrip(\"\\n\"))\n",
    "                \n",
    "        \n",
    "    "
   ]
  },
  {
   "cell_type": "code",
   "execution_count": 4,
   "metadata": {},
   "outputs": [],
   "source": [
    "dframe=pd.DataFrame(zip([i[0] for i in split_label],[i[1:] for i in split_label],[i[1:] for i in split_tags]),columns=['Sentence #','Sentence','Tag'])"
   ]
  },
  {
   "cell_type": "code",
   "execution_count": 5,
   "metadata": {},
   "outputs": [],
   "source": [
    "# dframe.to_csv('C:/Users/X232747/PycharmProjects/Biomedical_corpora/Biomedical-Corpora-master/corpora/NER/CoNLL/BIO/AnatEM_BIO/AnatEm_sentence_BIO.csv')\n",
    "# dframe"
   ]
  },
  {
   "cell_type": "code",
   "execution_count": 5,
   "metadata": {},
   "outputs": [
    {
     "data": {
      "text/plain": [
       "array(['O', 'B-Anatomical_system', 'I-Anatomical_system', 'B-Cell',\n",
       "       'I-Cell', 'B-Cellular_component', 'B-Organ',\n",
       "       'B-Organism_substance', 'I-Cellular_component', 'B-Cancer',\n",
       "       'I-Cancer', 'B-Developing_anatomical_structure',\n",
       "       'I-Developing_anatomical_structure', 'I-Organism_substance',\n",
       "       'B-Tissue', 'B-Multi-tissue_structure', 'I-Multi-tissue_structure',\n",
       "       'B-Immaterial_anatomical_entity', 'I-Tissue',\n",
       "       'B-Organism_subdivision', 'B-Pathological_formation',\n",
       "       'I-Pathological_formation', 'I-Immaterial_anatomical_entity',\n",
       "       'I-Organ', 'I-Organism_subdivision'], dtype=object)"
      ]
     },
     "execution_count": 5,
     "metadata": {},
     "output_type": "execute_result"
    }
   ],
   "source": [
    "tag_df=dframe.set_index(['Sentence #']).apply(pd.Series.explode).reset_index()\n",
    "tag_df['Tag'].unique()"
   ]
  },
  {
   "cell_type": "code",
   "execution_count": 6,
   "metadata": {},
   "outputs": [],
   "source": [
    "# tag_df.to_csv('C:/Users/X232747/PycharmProjects/Biomedical_corpora/Biomedical-Corpora-master/corpora/NER/CoNLL/BIO/AnatEM_BIO/AnatEM_BIO_tokens.csv')"
   ]
  },
  {
   "cell_type": "code",
   "execution_count": 6,
   "metadata": {},
   "outputs": [
    {
     "name": "stdout",
     "output_type": "stream",
     "text": [
      "['O', 'B-Anatomical_system', 'I-Anatomical_system', 'B-Cell', 'I-Cell', 'B-Cellular_component', 'B-Organ', 'B-Organism_substance', 'I-Cellular_component', 'B-Cancer', 'I-Cancer', 'B-Developing_anatomical_structure', 'I-Developing_anatomical_structure', 'I-Organism_substance', 'B-Tissue', 'B-Multi-tissue_structure', 'I-Multi-tissue_structure', 'B-Immaterial_anatomical_entity', 'I-Tissue', 'B-Organism_subdivision', 'B-Pathological_formation', 'I-Pathological_formation', 'I-Immaterial_anatomical_entity', 'I-Organ', 'I-Organism_subdivision']\n"
     ]
    }
   ],
   "source": [
    "from itertools import chain\n",
    "def get_dict_map(data, token_or_tag):\n",
    "    tok2idx = {}\n",
    "    idx2tok = {}\n",
    "    \n",
    "    if token_or_tag == 'token':\n",
    "        vocab = list(set(data['Sentence'].to_list()))\n",
    "    else:\n",
    "        vocab = list(data['Tag'].unique())\n",
    "        print(vocab)\n",
    "    idx2tok = {idx:tok for  idx, tok in enumerate(vocab)}\n",
    "    tok2idx = {tok:idx for  idx, tok in enumerate(vocab)}\n",
    "    return tok2idx, idx2tok\n",
    "\n",
    "\n",
    "token2idx, idx2token = get_dict_map(tag_df, 'token')\n",
    "tag2idx, idx2tag = get_dict_map(tag_df, 'tag')\n"
   ]
  },
  {
   "cell_type": "code",
   "execution_count": 7,
   "metadata": {},
   "outputs": [],
   "source": [
    "token2idx\n",
    "tag_df['Word_idx'] = tag_df['Sentence'].map(token2idx)\n",
    "tag_df['Tag_idx'] = tag_df['Tag'].map(tag2idx) "
   ]
  },
  {
   "cell_type": "code",
   "execution_count": 8,
   "metadata": {},
   "outputs": [
    {
     "data": {
      "text/html": [
       "<div>\n",
       "<style scoped>\n",
       "    .dataframe tbody tr th:only-of-type {\n",
       "        vertical-align: middle;\n",
       "    }\n",
       "\n",
       "    .dataframe tbody tr th {\n",
       "        vertical-align: top;\n",
       "    }\n",
       "\n",
       "    .dataframe thead th {\n",
       "        text-align: right;\n",
       "    }\n",
       "</style>\n",
       "<table border=\"1\" class=\"dataframe\">\n",
       "  <thead>\n",
       "    <tr style=\"text-align: right;\">\n",
       "      <th></th>\n",
       "      <th>Sentence #</th>\n",
       "      <th>Sentence</th>\n",
       "      <th>Tag</th>\n",
       "      <th>Word_idx</th>\n",
       "      <th>Tag_idx</th>\n",
       "    </tr>\n",
       "  </thead>\n",
       "  <tbody>\n",
       "    <tr>\n",
       "      <th>312161</th>\n",
       "      <td>sentence11808</td>\n",
       "      <td>curtail</td>\n",
       "      <td>O</td>\n",
       "      <td>9546</td>\n",
       "      <td>0</td>\n",
       "    </tr>\n",
       "    <tr>\n",
       "      <th>312162</th>\n",
       "      <td>sentence11808</td>\n",
       "      <td>aberrant</td>\n",
       "      <td>O</td>\n",
       "      <td>14923</td>\n",
       "      <td>0</td>\n",
       "    </tr>\n",
       "    <tr>\n",
       "      <th>312163</th>\n",
       "      <td>sentence11808</td>\n",
       "      <td>EC</td>\n",
       "      <td>B-Cell</td>\n",
       "      <td>8082</td>\n",
       "      <td>3</td>\n",
       "    </tr>\n",
       "    <tr>\n",
       "      <th>312164</th>\n",
       "      <td>sentence11808</td>\n",
       "      <td>growth</td>\n",
       "      <td>O</td>\n",
       "      <td>3385</td>\n",
       "      <td>0</td>\n",
       "    </tr>\n",
       "    <tr>\n",
       "      <th>312165</th>\n",
       "      <td>sentence11808</td>\n",
       "      <td>.</td>\n",
       "      <td>O</td>\n",
       "      <td>18853</td>\n",
       "      <td>0</td>\n",
       "    </tr>\n",
       "  </tbody>\n",
       "</table>\n",
       "</div>"
      ],
      "text/plain": [
       "           Sentence #  Sentence     Tag  Word_idx  Tag_idx\n",
       "312161  sentence11808   curtail       O      9546        0\n",
       "312162  sentence11808  aberrant       O     14923        0\n",
       "312163  sentence11808        EC  B-Cell      8082        3\n",
       "312164  sentence11808    growth       O      3385        0\n",
       "312165  sentence11808         .       O     18853        0"
      ]
     },
     "execution_count": 8,
     "metadata": {},
     "output_type": "execute_result"
    }
   ],
   "source": [
    "tag_df.tail()"
   ]
  },
  {
   "cell_type": "code",
   "execution_count": 10,
   "metadata": {},
   "outputs": [
    {
     "data": {
      "text/plain": [
       "Sentence #    False\n",
       "Sentence      False\n",
       "Tag           False\n",
       "Word_idx      False\n",
       "Tag_idx       False\n",
       "dtype: bool"
      ]
     },
     "execution_count": 10,
     "metadata": {},
     "output_type": "execute_result"
    }
   ],
   "source": [
    "tag_df.isna().any()"
   ]
  },
  {
   "cell_type": "code",
   "execution_count": 9,
   "metadata": {},
   "outputs": [
    {
     "name": "stderr",
     "output_type": "stream",
     "text": [
      "<ipython-input-9-db8cc5684c2d>:2: FutureWarning: Indexing with multiple keys (implicitly converted to a tuple of keys) will be deprecated, use a list instead.\n",
      "  tag_df_group = tag_df_fillna.groupby(['Sentence #'],as_index=False\n"
     ]
    },
    {
     "data": {
      "text/html": [
       "<div>\n",
       "<style scoped>\n",
       "    .dataframe tbody tr th:only-of-type {\n",
       "        vertical-align: middle;\n",
       "    }\n",
       "\n",
       "    .dataframe tbody tr th {\n",
       "        vertical-align: top;\n",
       "    }\n",
       "\n",
       "    .dataframe thead th {\n",
       "        text-align: right;\n",
       "    }\n",
       "</style>\n",
       "<table border=\"1\" class=\"dataframe\">\n",
       "  <thead>\n",
       "    <tr style=\"text-align: right;\">\n",
       "      <th></th>\n",
       "      <th>Sentence #</th>\n",
       "      <th>Sentence</th>\n",
       "      <th>Tag</th>\n",
       "      <th>Word_idx</th>\n",
       "      <th>Tag_idx</th>\n",
       "    </tr>\n",
       "  </thead>\n",
       "  <tbody>\n",
       "    <tr>\n",
       "      <th>0</th>\n",
       "      <td>sentence0</td>\n",
       "      <td>[SUMMARY]</td>\n",
       "      <td>[O]</td>\n",
       "      <td>[8426]</td>\n",
       "      <td>[0]</td>\n",
       "    </tr>\n",
       "    <tr>\n",
       "      <th>1</th>\n",
       "      <td>sentence1</td>\n",
       "      <td>[Both, the, innate, and, adaptive, immune, sub...</td>\n",
       "      <td>[O, O, O, O, O, B-Anatomical_system, I-Anatomi...</td>\n",
       "      <td>[5802, 18229, 1835, 6283, 12096, 1191, 14031, ...</td>\n",
       "      <td>[0, 0, 0, 0, 0, 1, 2, 0, 0, 0, 0, 0, 0, 0, 0, ...</td>\n",
       "    </tr>\n",
       "    <tr>\n",
       "      <th>2</th>\n",
       "      <td>sentence10</td>\n",
       "      <td>[On, the, 8th, day, of, serum, -, free, cultur...</td>\n",
       "      <td>[O, O, O, O, O, B-Organism_substance, O, O, O,...</td>\n",
       "      <td>[16984, 18229, 9542, 4879, 11455, 17780, 5395,...</td>\n",
       "      <td>[0, 0, 0, 0, 0, 7, 0, 0, 0, 0, 0, 0, 0, 0, 0, ...</td>\n",
       "    </tr>\n",
       "    <tr>\n",
       "      <th>3</th>\n",
       "      <td>sentence100</td>\n",
       "      <td>[The, pre, -, publication, history, for, this,...</td>\n",
       "      <td>[O, O, O, O, O, O, O, O, O, O, O, O, O]</td>\n",
       "      <td>[1661, 10799, 5395, 1791, 3313, 1239, 15154, 3...</td>\n",
       "      <td>[0, 0, 0, 0, 0, 0, 0, 0, 0, 0, 0, 0, 0]</td>\n",
       "    </tr>\n",
       "    <tr>\n",
       "      <th>4</th>\n",
       "      <td>sentence1000</td>\n",
       "      <td>[The, vertebrate, vasculature, develops, in, r...</td>\n",
       "      <td>[O, O, B-Anatomical_system, O, O, O, O, O, O, ...</td>\n",
       "      <td>[1661, 15294, 15226, 17821, 17658, 9712, 8944,...</td>\n",
       "      <td>[0, 0, 1, 0, 0, 0, 0, 0, 0, 0, 0, 0]</td>\n",
       "    </tr>\n",
       "  </tbody>\n",
       "</table>\n",
       "</div>"
      ],
      "text/plain": [
       "     Sentence #                                           Sentence  \\\n",
       "0     sentence0                                          [SUMMARY]   \n",
       "1     sentence1  [Both, the, innate, and, adaptive, immune, sub...   \n",
       "2    sentence10  [On, the, 8th, day, of, serum, -, free, cultur...   \n",
       "3   sentence100  [The, pre, -, publication, history, for, this,...   \n",
       "4  sentence1000  [The, vertebrate, vasculature, develops, in, r...   \n",
       "\n",
       "                                                 Tag  \\\n",
       "0                                                [O]   \n",
       "1  [O, O, O, O, O, B-Anatomical_system, I-Anatomi...   \n",
       "2  [O, O, O, O, O, B-Organism_substance, O, O, O,...   \n",
       "3            [O, O, O, O, O, O, O, O, O, O, O, O, O]   \n",
       "4  [O, O, B-Anatomical_system, O, O, O, O, O, O, ...   \n",
       "\n",
       "                                            Word_idx  \\\n",
       "0                                             [8426]   \n",
       "1  [5802, 18229, 1835, 6283, 12096, 1191, 14031, ...   \n",
       "2  [16984, 18229, 9542, 4879, 11455, 17780, 5395,...   \n",
       "3  [1661, 10799, 5395, 1791, 3313, 1239, 15154, 3...   \n",
       "4  [1661, 15294, 15226, 17821, 17658, 9712, 8944,...   \n",
       "\n",
       "                                             Tag_idx  \n",
       "0                                                [0]  \n",
       "1  [0, 0, 0, 0, 0, 1, 2, 0, 0, 0, 0, 0, 0, 0, 0, ...  \n",
       "2  [0, 0, 0, 0, 0, 7, 0, 0, 0, 0, 0, 0, 0, 0, 0, ...  \n",
       "3            [0, 0, 0, 0, 0, 0, 0, 0, 0, 0, 0, 0, 0]  \n",
       "4               [0, 0, 1, 0, 0, 0, 0, 0, 0, 0, 0, 0]  "
      ]
     },
     "execution_count": 9,
     "metadata": {},
     "output_type": "execute_result"
    }
   ],
   "source": [
    "tag_df_fillna = tag_df.fillna(method='ffill', axis=0)\n",
    "tag_df_group = tag_df_fillna.groupby(['Sentence #'],as_index=False\n",
    "                                )['Sentence', 'Tag', 'Word_idx', 'Tag_idx'].agg(lambda x: list(x))\n",
    "\n",
    "tag_df_group.head()"
   ]
  },
  {
   "cell_type": "code",
   "execution_count": null,
   "metadata": {},
   "outputs": [],
   "source": []
  },
  {
   "cell_type": "code",
   "execution_count": 10,
   "metadata": {},
   "outputs": [],
   "source": [
    "from sklearn.model_selection import train_test_split\n",
    "from keras.preprocessing.sequence import pad_sequences\n",
    "from tensorflow.keras.utils import to_categorical\n"
   ]
  },
  {
   "cell_type": "code",
   "execution_count": 11,
   "metadata": {},
   "outputs": [
    {
     "name": "stdout",
     "output_type": "stream",
     "text": [
      "[name: \"/device:CPU:0\"\n",
      "device_type: \"CPU\"\n",
      "memory_limit: 268435456\n",
      "locality {\n",
      "}\n",
      "incarnation: 7921477763730249295\n",
      ", name: \"/device:GPU:0\"\n",
      "device_type: \"GPU\"\n",
      "memory_limit: 3044750132\n",
      "locality {\n",
      "  bus_id: 1\n",
      "  links {\n",
      "  }\n",
      "}\n",
      "incarnation: 14572629349709866672\n",
      "physical_device_desc: \"device: 0, name: NVIDIA GeForce GTX 1650 Ti, pci bus id: 0000:01:00.0, compute capability: 7.5\"\n",
      "]\n"
     ]
    }
   ],
   "source": [
    "import tensorflow as tf\n",
    "from tensorflow.python.client import device_lib\n",
    "print(device_lib.list_local_devices())\n",
    "\n",
    "assert tf.config.list_physical_devices('GPU')"
   ]
  },
  {
   "cell_type": "code",
   "execution_count": 12,
   "metadata": {},
   "outputs": [
    {
     "name": "stdout",
     "output_type": "stream",
     "text": [
      "train_tokens length: 10628 \n",
      "test_tokens length: 1181 \n",
      "train_tags: 10628 \n",
      "test_tags: 1181\n"
     ]
    }
   ],
   "source": [
    "def get_pad_train_test_val(data_group, data):\n",
    "    n_token = len(list(set(data['Sentence'].to_list())))\n",
    "    n_tag = len(list(set(data['Tag'].to_list())))\n",
    "    \n",
    "    tokens = data_group['Word_idx'].tolist()\n",
    "    maxlen = max([len(s) for s in tokens])\n",
    "    pad_tokens = pad_sequences(tokens, maxlen=maxlen, dtype='int32', padding='post', value= n_token - 1)\n",
    "    \n",
    "    tags = data_group['Tag_idx'].tolist()\n",
    "    pad_tags = pad_sequences(tags, maxlen=maxlen, dtype='int32', padding='post', value= tag2idx[\"O\"])\n",
    "    \n",
    "    n_tags = len(tag2idx)\n",
    "    pad_tags = [to_categorical(i, num_classes=n_tags) for i in pad_tags]\n",
    "    \n",
    "    \n",
    "    train_tokens, test_tokens, train_tags, test_tags = train_test_split(pad_tokens, pad_tags, test_size=0.1, train_size=0.9, random_state=2020)\n",
    "\n",
    "    print(\n",
    "        'train_tokens length:', len(train_tokens),\n",
    "        '\\ntest_tokens length:', len(test_tokens),\n",
    "        '\\ntrain_tags:', len(train_tags),\n",
    "        '\\ntest_tags:', len(test_tags)\n",
    "    )\n",
    "    \n",
    "    return train_tokens, test_tokens, train_tags, test_tags\n",
    "\n",
    "train_tokens, test_tokens, train_tags, test_tags = get_pad_train_test_val(tag_df_group, tag_df)"
   ]
  },
  {
   "cell_type": "code",
   "execution_count": 13,
   "metadata": {},
   "outputs": [
    {
     "name": "stdout",
     "output_type": "stream",
     "text": [
      "95\t[1. 0. 0. 0. 0. 0. 0. 0. 0. 0. 0. 0. 0. 0. 0. 0. 0. 0. 0. 0. 0. 0. 0. 0.\n",
      " 0.]\n"
     ]
    }
   ],
   "source": [
    "for token, tag in zip(train_tokens[0], train_tags[0]):\n",
    "    print('%s\\t%s' % (token, tag))\n",
    "    break"
   ]
  },
  {
   "cell_type": "code",
   "execution_count": 14,
   "metadata": {},
   "outputs": [],
   "source": [
    "import numpy as np\n",
    "import tensorflow\n",
    "from tensorflow.keras import Sequential, Model, Input\n",
    "from tensorflow.keras.layers import LSTM, Embedding, Dense, TimeDistributed, Dropout, Bidirectional\n",
    "from tensorflow.keras.utils import plot_model\n"
   ]
  },
  {
   "cell_type": "code",
   "execution_count": 15,
   "metadata": {},
   "outputs": [],
   "source": [
    "from numpy.random import seed\n",
    "seed(1)\n",
    "tensorflow.random.set_seed(2)"
   ]
  },
  {
   "cell_type": "code",
   "execution_count": 16,
   "metadata": {},
   "outputs": [
    {
     "name": "stdout",
     "output_type": "stream",
     "text": [
      "input_dim:  20162 \n",
      "output_dim:  32 \n",
      "input_length:  334 \n",
      "n_tags:  25\n"
     ]
    }
   ],
   "source": [
    "input_dim = len(list(set(tag_df['Sentence'].to_list())))+1\n",
    "output_dim = 32\n",
    "input_length = max([len(s) for s in tag_df_group['Word_idx'].tolist()])\n",
    "n_tags = len(tag2idx)\n",
    "print('input_dim: ', input_dim, '\\noutput_dim: ', output_dim, '\\ninput_length: ', input_length, '\\nn_tags: ', n_tags)"
   ]
  },
  {
   "cell_type": "code",
   "execution_count": 17,
   "metadata": {},
   "outputs": [],
   "source": [
    "def get_bilstm_lstm_model():\n",
    "    model = Sequential()\n",
    "\n",
    "    # Add Embedding layer\n",
    "    model.add(Embedding(input_dim=input_dim, output_dim=output_dim, input_length=input_length))\n",
    "\n",
    "    # Add bidirectional LSTM\n",
    "    model.add(Bidirectional(LSTM(units=output_dim, return_sequences=True, dropout=0.2, recurrent_dropout=0.2), merge_mode = 'concat'))\n",
    "\n",
    "    # Add LSTM\n",
    "    #     model.add(LSTM(units=output_dim, return_sequences=True, dropout=0.5, recurrent_dropout=0.5))\n",
    "\n",
    "    # Add timeDistributed Layer\n",
    "    model.add(TimeDistributed(Dense(n_tags, activation=\"tanh\")))\n",
    "\n",
    "    #Optimiser \n",
    "#     adam = k.optimizers.Adam(lr=0.0005, beta_1=0.9, beta_2=0.999)\n",
    "\n",
    "    # Compile model\n",
    "    model.compile(loss='categorical_crossentropy', optimizer='adam', metrics=['accuracy'])\n",
    "    model.summary()\n",
    "    \n",
    "    return model"
   ]
  },
  {
   "cell_type": "code",
   "execution_count": 18,
   "metadata": {},
   "outputs": [
    {
     "name": "stdout",
     "output_type": "stream",
     "text": [
      "WARNING:tensorflow:Layer lstm will not use cuDNN kernel since it doesn't meet the cuDNN kernel criteria. It will use generic GPU kernel as fallback when running on GPU\n",
      "WARNING:tensorflow:Layer lstm will not use cuDNN kernel since it doesn't meet the cuDNN kernel criteria. It will use generic GPU kernel as fallback when running on GPU\n",
      "WARNING:tensorflow:Layer lstm will not use cuDNN kernel since it doesn't meet the cuDNN kernel criteria. It will use generic GPU kernel as fallback when running on GPU\n",
      "Model: \"sequential\"\n",
      "_________________________________________________________________\n",
      "Layer (type)                 Output Shape              Param #   \n",
      "=================================================================\n",
      "embedding (Embedding)        (None, 334, 32)           645184    \n",
      "_________________________________________________________________\n",
      "bidirectional (Bidirectional (None, 334, 64)           16640     \n",
      "_________________________________________________________________\n",
      "time_distributed (TimeDistri (None, 334, 25)           1625      \n",
      "=================================================================\n",
      "Total params: 663,449\n",
      "Trainable params: 663,449\n",
      "Non-trainable params: 0\n",
      "_________________________________________________________________\n",
      "('Failed to import pydot. You must `pip install pydot` and install graphviz (https://graphviz.gitlab.io/download/), ', 'for `pydotprint` to work.')\n"
     ]
    }
   ],
   "source": [
    "def train_model(X, y, model):\n",
    "    loss = list()\n",
    "\n",
    "        # fit model for one epoch on this sequence\n",
    "    hist = model.fit(X, y, batch_size=100, verbose=1, epochs=4, validation_split=0.2)\n",
    "    loss.append(hist.history['loss'][0])\n",
    "    return loss\n",
    "model_bilstm_lstm = get_bilstm_lstm_model()\n",
    "plot_model(model_bilstm_lstm)"
   ]
  },
  {
   "cell_type": "code",
   "execution_count": 19,
   "metadata": {},
   "outputs": [
    {
     "data": {
      "text/plain": [
       "(334, 25)"
      ]
     },
     "execution_count": 19,
     "metadata": {},
     "output_type": "execute_result"
    }
   ],
   "source": [
    "np.shape(train_tokens)\n",
    "np.shape(train_tags[0])\n"
   ]
  },
  {
   "cell_type": "code",
   "execution_count": 20,
   "metadata": {},
   "outputs": [
    {
     "name": "stdout",
     "output_type": "stream",
     "text": [
      "Num GPUs Available:  1\n",
      "Device mapping:\n",
      "/job:localhost/replica:0/task:0/device:GPU:0 -> device: 0, name: NVIDIA GeForce GTX 1650 Ti, pci bus id: 0000:01:00.0, compute capability: 7.5\n",
      "\n"
     ]
    }
   ],
   "source": [
    "import tensorflow as tf\n",
    "print(\"Num GPUs Available: \", len(tf.config.list_physical_devices('GPU')))\n",
    "sess = tf.compat.v1.Session(config=tf.compat.v1.ConfigProto(log_device_placement=True))"
   ]
  },
  {
   "cell_type": "code",
   "execution_count": 30,
   "metadata": {},
   "outputs": [],
   "source": [
    "import keras\n",
    "\n",
    "import tensorflow as tf\n",
    "from tensorflow.python.keras import backend as K\n",
    "K.set_session(sess)\n",
    "# keras.backend.set_session(sess)"
   ]
  },
  {
   "cell_type": "code",
   "execution_count": 31,
   "metadata": {},
   "outputs": [
    {
     "name": "stdout",
     "output_type": "stream",
     "text": [
      "Epoch 1/4\n",
      "86/86 [==============================] - 611s 7s/step - loss: 12.1697 - accuracy: 0.8658 - val_loss: 16.0448 - val_accuracy: 0.9941\n",
      "Epoch 2/4\n",
      "86/86 [==============================] - 608s 7s/step - loss: 16.0424 - accuracy: 0.9941 - val_loss: 16.0423 - val_accuracy: 0.9941\n",
      "Epoch 3/4\n",
      "86/86 [==============================] - 620s 7s/step - loss: 16.0404 - accuracy: 0.9941 - val_loss: 16.0407 - val_accuracy: 0.9941\n",
      "Epoch 4/4\n",
      "86/86 [==============================] - 628s 7s/step - loss: 16.0387 - accuracy: 0.9941 - val_loss: 16.0392 - val_accuracy: 0.9941\n"
     ]
    }
   ],
   "source": [
    "results = pd.DataFrame()\n",
    "results['with_add_lstm'] = train_model(train_tokens, np.array(train_tags), model_bilstm_lstm)"
   ]
  },
  {
   "cell_type": "code",
   "execution_count": 32,
   "metadata": {},
   "outputs": [
    {
     "data": {
      "text/html": [
       "<div>\n",
       "<style scoped>\n",
       "    .dataframe tbody tr th:only-of-type {\n",
       "        vertical-align: middle;\n",
       "    }\n",
       "\n",
       "    .dataframe tbody tr th {\n",
       "        vertical-align: top;\n",
       "    }\n",
       "\n",
       "    .dataframe thead th {\n",
       "        text-align: right;\n",
       "    }\n",
       "</style>\n",
       "<table border=\"1\" class=\"dataframe\">\n",
       "  <thead>\n",
       "    <tr style=\"text-align: right;\">\n",
       "      <th></th>\n",
       "      <th>with_add_lstm</th>\n",
       "    </tr>\n",
       "  </thead>\n",
       "  <tbody>\n",
       "    <tr>\n",
       "      <th>0</th>\n",
       "      <td>12.169669</td>\n",
       "    </tr>\n",
       "  </tbody>\n",
       "</table>\n",
       "</div>"
      ],
      "text/plain": [
       "   with_add_lstm\n",
       "0      12.169669"
      ]
     },
     "execution_count": 32,
     "metadata": {},
     "output_type": "execute_result"
    }
   ],
   "source": [
    "results"
   ]
  },
  {
   "cell_type": "code",
   "execution_count": 33,
   "metadata": {},
   "outputs": [
    {
     "data": {
      "image/png": "[encoded data removed]",
      "text/plain": [
       "<Figure size 432x288 with 1 Axes>"
      ]
     },
     "metadata": {
      "needs_background": "light"
     },
     "output_type": "display_data"
    }
   ],
   "source": [
    "# # !pip install matplotlib \n",
    "import matplotlib.pyplot as plt\n",
    "plt.plot(results['with_add_lstm'])\n",
    "plt.xlabel('Epochs');\n",
    "plt.ylabel('Loss');"
   ]
  },
  {
   "cell_type": "code",
   "execution_count": null,
   "metadata": {},
   "outputs": [],
   "source": []
  }
 ],
 "metadata": {
  "kernelspec": {
   "display_name": "Python 3",
   "language": "python",
   "name": "python3"
  },
  "language_info": {
   "codemirror_mode": {
    "name": "ipython",
    "version": 3
   },
   "file_extension": ".py",
   "mimetype": "text/x-python",
   "name": "python",
   "nbconvert_exporter": "python",
   "pygments_lexer": "ipython3",
   "version": "3.8.5"
  }
 },
 "nbformat": 4,
 "nbformat_minor": 5
}
