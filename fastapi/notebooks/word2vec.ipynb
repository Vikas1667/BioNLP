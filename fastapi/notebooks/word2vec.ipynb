{
 "cells": [
  {
   "cell_type": "code",
   "execution_count": 1,
   "id": "08f682f6",
   "metadata": {},
   "outputs": [
    {
     "name": "stderr",
     "output_type": "stream",
     "text": [
      "c:\\python39\\lib\\site-packages\\gensim\\similarities\\__init__.py:15: UserWarning: The gensim.similarities.levenshtein submodule is disabled, because the optional Levenshtein package <https://pypi.org/project/python-Levenshtein/> is unavailable. Install Levenhstein (e.g. `pip install python-Levenshtein`) to suppress this warning.\n",
      "  warnings.warn(msg)\n"
     ]
    }
   ],
   "source": [
    "import pandas as pd \n",
    "import gensim\n"
   ]
  },
  {
   "cell_type": "code",
   "execution_count": 2,
   "id": "7841c7dc",
   "metadata": {},
   "outputs": [],
   "source": [
    "from gensim.models import KeyedVectors\n",
    "from gensim import models\n",
    "import numpy as np"
   ]
  },
  {
   "cell_type": "code",
   "execution_count": 3,
   "id": "a3760fa2",
   "metadata": {},
   "outputs": [],
   "source": [
    "word2vec_path='./pubmed_mesh_test.wv.vectors_ngrams.npy'\n",
    "word2vec_bin='./pubmed_mesh_test.bin'\n",
    "w2v_model = models.KeyedVectors.load_word2vec_format(word2vec_bin,binary=True)\n",
    "\n",
    "# np.load(word2vec_path)"
   ]
  },
  {
   "cell_type": "code",
   "execution_count": 12,
   "id": "abe46f51",
   "metadata": {},
   "outputs": [
    {
     "data": {
      "text/plain": [
       "[('diabetic', 0.8910951614379883),\n",
       " ('diabetics', 0.8489134907722473),\n",
       " ('mellitus', 0.8363028764724731),\n",
       " ('antidiabetic', 0.8166279792785645),\n",
       " ('diabetogenic', 0.8108972311019897),\n",
       " ('nondiabetic', 0.8007159233093262),\n",
       " ('diabetes-mellitus', 0.7824997901916504),\n",
       " ('streptozotocin-diabetes', 0.7782632112503052),\n",
       " ('diabetic-ketoacidosis', 0.7781228423118591),\n",
       " ('diabetes-gestational', 0.7748953104019165)]"
      ]
     },
     "execution_count": 12,
     "metadata": {},
     "output_type": "execute_result"
    }
   ],
   "source": [
    "w2v_model.most_similar('diabetes')\n"
   ]
  },
  {
   "cell_type": "code",
   "execution_count": 14,
   "id": "04436357",
   "metadata": {},
   "outputs": [
    {
     "data": {
      "text/plain": [
       "[('cancers', 0.8269412517547607),\n",
       " ('noncancer', 0.8254691362380981),\n",
       " ('cancerous', 0.799401044845581),\n",
       " ('breast', 0.7910943031311035),\n",
       " ('carcinoma', 0.7736474871635437),\n",
       " ('cancerostatic', 0.7702339887619019),\n",
       " ('carcinomas', 0.7641814947128296),\n",
       " ('nonmetastatic', 0.7538164258003235),\n",
       " ('metastatic', 0.7491722702980042),\n",
       " ('malignancies', 0.7476871013641357)]"
      ]
     },
     "execution_count": 14,
     "metadata": {},
     "output_type": "execute_result"
    }
   ],
   "source": [
    "w2v_model.most_similar('cancer')\n"
   ]
  },
  {
   "cell_type": "code",
   "execution_count": 4,
   "id": "2755fbc9",
   "metadata": {},
   "outputs": [
    {
     "data": {
      "text/plain": [
       "0.89109516"
      ]
     },
     "execution_count": 4,
     "metadata": {},
     "output_type": "execute_result"
    }
   ],
   "source": [
    "w2v_model.similarity('diabetes','diabetic')"
   ]
  },
  {
   "cell_type": "code",
   "execution_count": null,
   "id": "bb3a98b0",
   "metadata": {},
   "outputs": [],
   "source": []
  }
 ],
 "metadata": {
  "kernelspec": {
   "display_name": "Python 3 (ipykernel)",
   "language": "python",
   "name": "python3"
  },
  "language_info": {
   "codemirror_mode": {
    "name": "ipython",
    "version": 3
   },
   "file_extension": ".py",
   "mimetype": "text/x-python",
   "name": "python",
   "nbconvert_exporter": "python",
   "pygments_lexer": "ipython3",
   "version": "3.9.4"
  }
 },
 "nbformat": 4,
 "nbformat_minor": 5
}
